{
 "cells": [
  {
   "cell_type": "markdown",
   "id": "2d3684f8-dd2c-4737-81af-36e852460ee7",
   "metadata": {},
   "source": [
    "# My Jupyter Notebook on IBM Watson Studio"
   ]
  },
  {
   "cell_type": "markdown",
   "id": "ac112f5e-f27f-40ec-88c4-19124e4d70f9",
   "metadata": {},
   "source": [
    "__Tushar Tiwari__\n",
    "\n",
    "Data Associate"
   ]
  },
  {
   "cell_type": "markdown",
   "id": "742ea2ea-4c8f-4f41-b25e-60a8266ebcd4",
   "metadata": {},
   "source": [
    "_I am interested in data science because I enjoy problem solving and statistical analysis which in turn help me in my career growth_"
   ]
  },
  {
   "cell_type": "markdown",
   "id": "eb630aa0-e0da-41e9-a89e-974d555e0f27",
   "metadata": {},
   "source": [
    "### The following code tests the BODMAS rule"
   ]
  },
  {
   "cell_type": "code",
   "execution_count": 2,
   "id": "2ecd28ce-5b9b-40d6-be9e-36444eb6158c",
   "metadata": {},
   "outputs": [
    {
     "data": {
      "text/plain": [
       "0.0"
      ]
     },
     "execution_count": 2,
     "metadata": {},
     "output_type": "execute_result"
    }
   ],
   "source": [
    "(2+3)/5-1"
   ]
  },
  {
   "cell_type": "markdown",
   "id": "8558476a-4d00-4d28-b042-0f36691cc2dd",
   "metadata": {},
   "source": [
    "1. This\n",
    "2. is\n",
    "3. a\n",
    "4. Numbered \n",
    "5. List\n",
    "\n",
    "|Name|Occupation|\n",
    "|------|------|\n",
    "|Tushar Tiwari|Data Associate|\n",
    "\n",
    "\n",
    "###### Horizontal Rule\n",
    "\n",
    "This is the text above Horizontal separator\n",
    "***\n",
    "This is the text below Horizontal separator"
   ]
  }
 ],
 "metadata": {
  "kernelspec": {
   "display_name": "Python",
   "language": "python",
   "name": "conda-env-python-py"
  },
  "language_info": {
   "codemirror_mode": {
    "name": "ipython",
    "version": 3
   },
   "file_extension": ".py",
   "mimetype": "text/x-python",
   "name": "python",
   "nbconvert_exporter": "python",
   "pygments_lexer": "ipython3",
   "version": "3.7.12"
  }
 },
 "nbformat": 4,
 "nbformat_minor": 5
}
